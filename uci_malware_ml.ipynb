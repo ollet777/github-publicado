{
 "cells": [
  {
   "cell_type": "code",
   "execution_count": 2,
   "id": "20ebb532",
   "metadata": {},
   "outputs": [],
   "source": [
    "import pandas as pd\n",
    "import numpy as np\n",
    "import pickle\n",
    "\n",
    "from sklearn.model_selection import train_test_split\n",
    "from sklearn import tree\n",
    "\n",
    "from sklearn.metrics import confusion_matrix\n"
   ]
  },
  {
   "cell_type": "code",
   "execution_count": 3,
   "id": "c3084cc5",
   "metadata": {},
   "outputs": [],
   "source": [
    "# recuerda que el error de module not found se puede deber a que te falta instalar librerias\n",
    "# prueba a instalar las que faltan con \n",
    "# pip install scikit-learn \n",
    "# pop "
   ]
  },
  {
   "cell_type": "code",
   "execution_count": 5,
   "id": "2b936305",
   "metadata": {},
   "outputs": [
    {
     "name": "stdout",
     "output_type": "stream",
     "text": [
      "Accuracy test: 95.54% \n",
      "\n",
      "Accuracy train: 100.0% \n",
      "\n",
      "Test confusion matrix\n",
      "[[85  4]\n",
      " [ 1 22]]\n",
      "\n",
      "Train confusion matrix\n",
      "[[212   0]\n",
      " [  0  49]]\n"
     ]
    }
   ],
   "source": [
    "# lectura del dataset\n",
    "df = pd.read_csv(r\"./uci_malware_detection.csv\")\n",
    "\n",
    "# Extraccion de variables \n",
    "X = df.drop(\"Label\", axis=1)\n",
    "# Etiquetas (malware / no-malware)\n",
    "y = df[\"Label\"]  # variable objetivo\n",
    "\n",
    "\n",
    "X_train, X_test, y_train, y_test = train_test_split(X, y, test_size=0.3, random_state=42)\n",
    "\n",
    "\n",
    "clf = tree.DecisionTreeClassifier()\n",
    "clf = clf.fit(X_train, y_train)\n",
    "\n",
    "# save the model to disk\n",
    "filename = 'finalized_model.pkl'\n",
    "pickle.dump(clf, open(filename, 'wb'))\n",
    "\n",
    "\n",
    "\n",
    "# some time later...\n",
    "\n",
    "# load the model from disk\n",
    "loaded_model = pickle.load(open(filename, 'rb'))\n",
    "\n",
    "result = loaded_model.score(X_test, y_test)\n",
    "print(f\"Accuracy test: {round(100 * result, 2)}% \\n\")\n",
    "\n",
    "result = loaded_model.score(X_train, y_train)\n",
    "print(f\"Accuracy train: {round(100 * result, 2)}% \\n\")\n",
    "\n",
    "\n",
    "y_pred_test = clf.predict(X_test)\n",
    "print(\"Test confusion matrix\")\n",
    "print(confusion_matrix(y_test, y_pred_test))\n",
    "\n",
    "print(\"\")\n",
    "\n",
    "y_pred_train = clf.predict(X_train)\n",
    "print(\"Train confusion matrix\")\n",
    "print(confusion_matrix(y_train, y_pred_train))\n",
    "\n"
   ]
  },
  {
   "cell_type": "code",
   "execution_count": null,
   "id": "6e2d89d8",
   "metadata": {},
   "outputs": [],
   "source": []
  }
 ],
 "metadata": {
  "kernelspec": {
   "display_name": "Python 3 (ipykernel)",
   "language": "python",
   "name": "python3"
  },
  "language_info": {
   "codemirror_mode": {
    "name": "ipython",
    "version": 3
   },
   "file_extension": ".py",
   "mimetype": "text/x-python",
   "name": "python",
   "nbconvert_exporter": "python",
   "pygments_lexer": "ipython3",
   "version": "3.10.9"
  }
 },
 "nbformat": 4,
 "nbformat_minor": 5
}
